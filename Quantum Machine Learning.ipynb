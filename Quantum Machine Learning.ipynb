{
  "cells": [
    {
      "cell_type": "code",
      "execution_count": null,
      "metadata": {
        "colab": {
          "base_uri": "https://localhost:8080/"
        },
        "id": "ASbJeYw3tl9A",
        "outputId": "0a434da4-7761-4dde-b559-a65c4a251d18"
      },
      "outputs": [
        {
          "output_type": "stream",
          "name": "stdout",
          "text": [
            "Requirement already satisfied: pennylane in /usr/local/lib/python3.10/dist-packages (0.36.0)\n",
            "Requirement already satisfied: numpy<2.0 in /usr/local/lib/python3.10/dist-packages (from pennylane) (1.25.2)\n",
            "Requirement already satisfied: scipy in /usr/local/lib/python3.10/dist-packages (from pennylane) (1.11.4)\n",
            "Requirement already satisfied: networkx in /usr/local/lib/python3.10/dist-packages (from pennylane) (3.3)\n",
            "Requirement already satisfied: rustworkx in /usr/local/lib/python3.10/dist-packages (from pennylane) (0.14.2)\n",
            "Requirement already satisfied: autograd in /usr/local/lib/python3.10/dist-packages (from pennylane) (1.6.2)\n",
            "Requirement already satisfied: toml in /usr/local/lib/python3.10/dist-packages (from pennylane) (0.10.2)\n",
            "Requirement already satisfied: appdirs in /usr/local/lib/python3.10/dist-packages (from pennylane) (1.4.4)\n",
            "Requirement already satisfied: semantic-version>=2.7 in /usr/local/lib/python3.10/dist-packages (from pennylane) (2.10.0)\n",
            "Requirement already satisfied: autoray>=0.6.1 in /usr/local/lib/python3.10/dist-packages (from pennylane) (0.6.12)\n",
            "Requirement already satisfied: cachetools in /usr/local/lib/python3.10/dist-packages (from pennylane) (5.3.3)\n",
            "Requirement already satisfied: pennylane-lightning>=0.36 in /usr/local/lib/python3.10/dist-packages (from pennylane) (0.36.0)\n",
            "Requirement already satisfied: requests in /usr/local/lib/python3.10/dist-packages (from pennylane) (2.31.0)\n",
            "Requirement already satisfied: typing-extensions in /usr/local/lib/python3.10/dist-packages (from pennylane) (4.12.1)\n",
            "Requirement already satisfied: future>=0.15.2 in /usr/local/lib/python3.10/dist-packages (from autograd->pennylane) (0.18.3)\n",
            "Requirement already satisfied: charset-normalizer<4,>=2 in /usr/local/lib/python3.10/dist-packages (from requests->pennylane) (3.3.2)\n",
            "Requirement already satisfied: idna<4,>=2.5 in /usr/local/lib/python3.10/dist-packages (from requests->pennylane) (3.7)\n",
            "Requirement already satisfied: urllib3<3,>=1.21.1 in /usr/local/lib/python3.10/dist-packages (from requests->pennylane) (2.0.7)\n",
            "Requirement already satisfied: certifi>=2017.4.17 in /usr/local/lib/python3.10/dist-packages (from requests->pennylane) (2024.6.2)\n"
          ]
        }
      ],
      "source": [
        "!pip install pennylane"
      ]
    },
    {
      "cell_type": "markdown",
      "source": [
        "Import all the essecsial library"
      ],
      "metadata": {
        "id": "T71WnH6vasuP"
      }
    },
    {
      "cell_type": "code",
      "execution_count": null,
      "metadata": {
        "id": "HlKDEi42tcLr"
      },
      "outputs": [],
      "source": [
        "import pennylane as qml\n",
        "# Just like standard NumPy, but with the added benefit of automatic differentiation\n",
        "from pennylane import numpy as np\n",
        "from pennylane.templates import RandomLayers\n",
        "import tensorflow as tf\n",
        "from tensorflow import keras\n",
        "import matplotlib.pyplot as plt\n",
        "%matplotlib inline\n",
        "from keras import metrics\n",
        "import time\n",
        "import random"
      ]
    },
    {
      "cell_type": "code",
      "execution_count": null,
      "metadata": {
        "id": "aqnUh8Cwtimd"
      },
      "outputs": [],
      "source": [
        "n_epochs = 30\n",
        "n_layers = 1\n",
        "n_train = 500\n",
        "n_test = 200\n",
        "\n",
        "SAVE_PATH = \"/content/\"\n",
        "PREPROCESS = True\n",
        "np.random.seed(0)\n",
        "tf.random.set_seed(0)"
      ]
    },
    {
      "cell_type": "code",
      "execution_count": null,
      "metadata": {
        "id": "HKzz34uet0aT"
      },
      "outputs": [],
      "source": [
        "mnist_dataset = keras.datasets.mnist\n",
        "(train_images, train_labels), (test_images, test_labels) = mnist_dataset.load_data()\n",
        "\n",
        "# Reduce dataset size\n",
        "train_images = train_images[:n_train]\n",
        "train_labels = train_labels[:n_train]\n",
        "test_images = test_images[:n_test]\n",
        "test_labels = test_labels[:n_test]\n",
        "\n",
        "# Normalize pixel values within 0 and 1\n",
        "train_images1 = train_images / 255\n",
        "test_images1 = test_images / 255\n",
        "\n",
        "# Add extra dimension (for convolution channels)\n",
        "train_images = np.array(train_images1[..., tf.newaxis], requires_grad=False)\n",
        "test_images = np.array(test_images1[..., tf.newaxis], requires_grad=False)"
      ]
    },
    {
      "cell_type": "code",
      "execution_count": null,
      "metadata": {
        "colab": {
          "base_uri": "https://localhost:8080/"
        },
        "id": "BI9oFk-xt4pt",
        "outputId": "ad30d4cd-b23a-41c8-f1c7-cfa607ede888"
      },
      "outputs": [
        {
          "output_type": "stream",
          "name": "stdout",
          "text": [
            "(500, 28, 28, 1)\n",
            "(500,)\n",
            "(200, 28, 28, 1)\n",
            "(200,)\n"
          ]
        }
      ],
      "source": [
        "print(train_images.shape)\n",
        "print(train_labels.shape)\n",
        "print(test_images.shape)\n",
        "print(test_labels.shape)"
      ]
    },
    {
      "cell_type": "code",
      "execution_count": null,
      "metadata": {
        "id": "aG9Ecjuq-Gfn"
      },
      "outputs": [],
      "source": [
        "dev = qml.device(\"default.qubit\", wires=4)\n",
        "\n",
        "# Random circuit parameters\n",
        "rand_params = np.random.uniform(high=2*np.pi, size=(n_layers, 4))\n",
        "\n",
        "\n",
        "@qml.qnode(dev)\n",
        "def circuit(phi):\n",
        "    # Apply a rotation gate RY on each wire\n",
        "    for i in range(4):\n",
        "        qml.RY(phi[i], wires=i)\n",
        "\n",
        "    # Apply CZ gate between wire 0 and wire 1\n",
        "    qml.Hadamard(wires=1)\n",
        "    qml.CNOT(wires=[1, 2])\n",
        "\n",
        "    qml.SWAP(wires=[0, 1])\n",
        "    qml.SWAP(wires=[2, 3])\n",
        "\n",
        "    qml.CNOT(wires=[1, 2])\n",
        "    qml.Hadamard(wires=1)\n",
        "\n",
        "    # Apply CZ gate between wire 2 and wire 3\n",
        "    #qml.CRY(phi[p], wires=[0, 1])\n",
        "    #qml.RY(phi[q], wires=[2, 3])\n",
        "\n",
        "    # Measurement: returning the expectation value of PauliZ on each wire\n",
        "    return [qml.expval(qml.PauliZ(i)) for i in range(4)]"
      ]
    },
    {
      "cell_type": "code",
      "execution_count": null,
      "metadata": {
        "id": "Its5jmYiuKjd"
      },
      "outputs": [],
      "source": [
        "def quanv(image):\n",
        "    \"\"\"Convolves the input image with many applications of the same quantum circuit\"\"\"\n",
        "    out = np.zeros((14, 14, 4))\n",
        "\n",
        "    # Loop over the coordinates of the top-left pixel of 2X2 squares\n",
        "    for j in range(0, 28, 2):\n",
        "        for k in range(0, 28, 2):\n",
        "            # Process a 2x2 region with the quantum circuit\n",
        "            q_results = circuit(\n",
        "                [image[j, k, 0], image[j, k + 1, 0],\n",
        "                 image[j + 1, k, 0], image[j + 1, k + 1, 0]]\n",
        "            )\n",
        "            # Assign expectation values to different channels of the output pixel (j/2, k/2)\n",
        "            for c in range(4):\n",
        "                out[j // 2, k // 2, c] = q_results[c]\n",
        "    return out"
      ]
    },
    {
      "cell_type": "code",
      "source": [
        "def create_model():\n",
        "    \"\"\"Creates a Keras model that mimics processing of 4 pixels at a time in an ANN.\"\"\"\n",
        "    model = Sequential([\n",
        "        # Flatten the entire image to a single vector\n",
        "        Reshape((784,), input_shape=(28, 28, 1)),\n",
        "\n",
        "        # Dense layer to mimic the 'circuit' applied to every group of four pixels\n",
        "        # This example assumes a simple transformation that can be learned by a Dense layer\n",
        "        # We simulate this by first reshaping the input to separate groups of 4 pixels\n",
        "        Reshape((196, 4)),  # Now we have 196 groups of 4 pixels each\n",
        "        Dense(4, activation='relu'),  # Apply a Dense transformation to each group of 4 pixels\n",
        "\n",
        "        # Reshape back to a 14x14 feature map with 4 channels for further processing\n",
        "        Reshape((14, 14, 4)),\n",
        "\n",
        "    ])\n",
        "\n",
        "    return model\n"
      ],
      "metadata": {
        "id": "2mD87TVv0dXu"
      },
      "execution_count": null,
      "outputs": []
    },
    {
      "cell_type": "code",
      "execution_count": null,
      "metadata": {
        "colab": {
          "base_uri": "https://localhost:8080/"
        },
        "id": "87qnbchfuOZy",
        "outputId": "0a236e9e-367c-4875-821f-cd695b042147"
      },
      "outputs": [
        {
          "output_type": "stream",
          "name": "stdout",
          "text": [
            "Quantum pre-processing of train images:\n",
            "\n",
            "Quantum pre-processing of test images:\n"
          ]
        }
      ],
      "source": [
        "if PREPROCESS == True:\n",
        "    q_train_images = []\n",
        "    print(\"Quantum pre-processing of train images:\")\n",
        "    for idx, img in enumerate(train_images):\n",
        "        print(f\"{idx + 1}/{n_train}        \", end=\"\\r\")\n",
        "        q_train_images.append(quanv(img))\n",
        "    q_train_images = np.asarray(q_train_images)\n",
        "\n",
        "    q_test_images = []\n",
        "    print(\"\\nQuantum pre-processing of test images:\")\n",
        "    for idx, img in enumerate(test_images):\n",
        "        print(f\"{idx + 1}/{n_test}        \", end=\"\\r\")\n",
        "        q_test_images.append(quanv(img))\n",
        "    q_test_images = np.asarray(q_test_images)\n",
        "\n",
        "    # Save pre-processed images\n",
        "    np.save(SAVE_PATH + \"q_train_images.npy\", q_train_images)\n",
        "    np.save(SAVE_PATH + \"q_test_images.npy\", q_test_images)\n",
        "\n",
        "\n",
        "# Load pre-processed images\n",
        "q_train_images = np.load(SAVE_PATH + \"q_train_images.npy\")\n",
        "q_test_images = np.load(SAVE_PATH + \"q_test_images.npy\")"
      ]
    },
    {
      "cell_type": "code",
      "execution_count": null,
      "metadata": {
        "colab": {
          "base_uri": "https://localhost:8080/",
          "height": 911
        },
        "id": "VmCr2gtSv4MZ",
        "outputId": "b5075d9b-8cd8-4af0-f74f-0f61d5563b58"
      },
      "outputs": [
        {
          "output_type": "display_data",
          "data": {
            "text/plain": [
              "<Figure size 1000x1000 with 40 Axes>"
            ],
            "image/png": "[encoded data removed]"
          },
          "metadata": {}
        }
      ],
      "source": [
        "n_samples = 8\n",
        "n_channels = 4\n",
        "\n",
        "fig, axes = plt.subplots(1+n_channels, n_samples, figsize=(10, 10))\n",
        "for k in range(n_samples):\n",
        "    axes[0, 0].set_ylabel(\"Input\")\n",
        "    if k != 0:\n",
        "        axes[0, k].yaxis.set_visible(False)\n",
        "    axes[0, k].imshow(train_images[k, :, :, 0], cmap=\"gray\")\n",
        "\n",
        "    # Plot all output channels\n",
        "    for c in range(n_channels):\n",
        "        axes[c + 1, 0].set_ylabel(f\"Output [ch. {c}]\")\n",
        "        if k != 0:\n",
        "            axes[c, k].yaxis.set_visible(False)\n",
        "        axes[c + 1, k].imshow(q_train_images[k, :, :, c], cmap=\"gray\")\n",
        "\n",
        "plt.tight_layout()\n",
        "plt.savefig(f'out_q_layer_{n_samples}_samples.png', dpi=300, facecolor='w')\n",
        "plt.show()"
      ]
    },
    {
      "cell_type": "code",
      "execution_count": null,
      "metadata": {
        "id": "dYKcD76bv5Ms"
      },
      "outputs": [],
      "source": [
        "def model():\n",
        "    \"\"\"Initializes and returns a Keras model to be trained\"\"\"\n",
        "    model = keras.models.Sequential([\n",
        "        keras.layers.Flatten(),\n",
        "        keras.layers.Dense(10, activation=\"softmax\")\n",
        "    ])\n",
        "\n",
        "    model.compile(\n",
        "        optimizer='adam',\n",
        "        loss=\"sparse_categorical_crossentropy\",\n",
        "        metrics=['accuracy'],\n",
        "    )\n",
        "    return model"
      ]
    },
    {
      "cell_type": "code",
      "execution_count": null,
      "metadata": {
        "id": "j95O-RM9OES5"
      },
      "outputs": [],
      "source": [
        "import keras\n",
        "from keras import layers, metrics\n",
        "\n",
        "import keras\n",
        "from keras import layers\n",
        "\n",
        "def model1():\n",
        "    \"\"\"Initializes and returns a Keras model based on the LeNet-5 architecture\"\"\"\n",
        "    model1 = keras.models.Sequential([\n",
        "        # Resizing the 28x28 image to 32x32 by padding\n",
        "        layers.ZeroPadding2D(padding=2, input_shape=(28, 28, 1)),\n",
        "        # First convolution layer\n",
        "        layers.Conv2D(filters=6, kernel_size=(5, 5), activation='tanh'),\n",
        "        # Average pooling layer\n",
        "        layers.AveragePooling2D(pool_size=(2, 2), strides=2),\n",
        "        # Second convolution layer\n",
        "        layers.Conv2D(filters=16, kernel_size=(5, 5), activation='tanh'),\n",
        "        # Average pooling layer\n",
        "        layers.AveragePooling2D(pool_size=(2, 2), strides=2),\n",
        "        # Flattening the output of the pooling layer to feed into the dense layer\n",
        "        layers.Flatten(),\n",
        "        # Dense layers\n",
        "        layers.Dense(units=120, activation='tanh'),\n",
        "        layers.Dense(units=84, activation='tanh'),\n",
        "        # Output layer with softmax activation for classification\n",
        "        layers.Dense(units=10, activation='softmax')\n",
        "    ])\n",
        "\n",
        "    model1.compile(\n",
        "        optimizer='adam',\n",
        "        loss='sparse_categorical_crossentropy',\n",
        "        metrics=['accuracy'],\n",
        "        )\n",
        "    return model1"
      ]
    },
    {
      "cell_type": "code",
      "execution_count": null,
      "metadata": {
        "colab": {
          "base_uri": "https://localhost:8080/"
        },
        "id": "T2v_3p6Vv9Sw",
        "outputId": "16121c86-1f87-44e5-ff7c-189f2321cd56"
      },
      "outputs": [
        {
          "output_type": "stream",
          "name": "stdout",
          "text": [
            "Epoch 1/30\n",
            "125/125 - 1s - loss: 1.8479 - accuracy: 0.4440 - val_loss: 1.4781 - val_accuracy: 0.6050 - 1s/epoch - 9ms/step\n",
            "Epoch 2/30\n",
            "125/125 - 0s - loss: 1.1413 - accuracy: 0.7560 - val_loss: 1.1037 - val_accuracy: 0.7300 - 370ms/epoch - 3ms/step\n",
            "Epoch 3/30\n",
            "125/125 - 0s - loss: 0.8208 - accuracy: 0.8260 - val_loss: 0.9566 - val_accuracy: 0.7350 - 368ms/epoch - 3ms/step\n",
            "Epoch 4/30\n",
            "125/125 - 0s - loss: 0.6568 - accuracy: 0.8780 - val_loss: 0.8157 - val_accuracy: 0.7950 - 296ms/epoch - 2ms/step\n",
            "Epoch 5/30\n",
            "125/125 - 0s - loss: 0.5522 - accuracy: 0.8780 - val_loss: 0.7843 - val_accuracy: 0.7450 - 293ms/epoch - 2ms/step\n",
            "Epoch 6/30\n",
            "125/125 - 0s - loss: 0.4736 - accuracy: 0.9100 - val_loss: 0.7160 - val_accuracy: 0.7950 - 303ms/epoch - 2ms/step\n",
            "Epoch 7/30\n",
            "125/125 - 0s - loss: 0.4222 - accuracy: 0.9100 - val_loss: 0.6592 - val_accuracy: 0.8050 - 298ms/epoch - 2ms/step\n",
            "Epoch 8/30\n",
            "125/125 - 0s - loss: 0.3822 - accuracy: 0.9220 - val_loss: 0.5999 - val_accuracy: 0.8600 - 379ms/epoch - 3ms/step\n",
            "Epoch 9/30\n",
            "125/125 - 0s - loss: 0.3438 - accuracy: 0.9340 - val_loss: 0.5790 - val_accuracy: 0.8100 - 368ms/epoch - 3ms/step\n",
            "Epoch 10/30\n",
            "125/125 - 0s - loss: 0.3209 - accuracy: 0.9400 - val_loss: 0.5387 - val_accuracy: 0.8300 - 289ms/epoch - 2ms/step\n",
            "Epoch 11/30\n",
            "125/125 - 0s - loss: 0.2937 - accuracy: 0.9340 - val_loss: 0.5648 - val_accuracy: 0.8050 - 286ms/epoch - 2ms/step\n",
            "Epoch 12/30\n",
            "125/125 - 0s - loss: 0.2673 - accuracy: 0.9480 - val_loss: 0.5308 - val_accuracy: 0.8100 - 300ms/epoch - 2ms/step\n",
            "Epoch 13/30\n",
            "125/125 - 0s - loss: 0.2523 - accuracy: 0.9520 - val_loss: 0.5264 - val_accuracy: 0.8400 - 291ms/epoch - 2ms/step\n",
            "Epoch 14/30\n",
            "125/125 - 0s - loss: 0.2392 - accuracy: 0.9480 - val_loss: 0.5057 - val_accuracy: 0.8700 - 289ms/epoch - 2ms/step\n",
            "Epoch 15/30\n",
            "125/125 - 0s - loss: 0.2244 - accuracy: 0.9560 - val_loss: 0.4829 - val_accuracy: 0.8600 - 296ms/epoch - 2ms/step\n",
            "Epoch 16/30\n",
            "125/125 - 0s - loss: 0.2119 - accuracy: 0.9560 - val_loss: 0.4918 - val_accuracy: 0.8550 - 289ms/epoch - 2ms/step\n",
            "Epoch 17/30\n",
            "125/125 - 0s - loss: 0.1895 - accuracy: 0.9620 - val_loss: 0.4373 - val_accuracy: 0.8600 - 356ms/epoch - 3ms/step\n",
            "Epoch 18/30\n",
            "125/125 - 0s - loss: 0.1763 - accuracy: 0.9660 - val_loss: 0.4260 - val_accuracy: 0.8800 - 302ms/epoch - 2ms/step\n",
            "Epoch 19/30\n",
            "125/125 - 0s - loss: 0.1669 - accuracy: 0.9640 - val_loss: 0.4369 - val_accuracy: 0.8750 - 384ms/epoch - 3ms/step\n",
            "Epoch 20/30\n",
            "125/125 - 0s - loss: 0.1548 - accuracy: 0.9720 - val_loss: 0.4198 - val_accuracy: 0.8800 - 447ms/epoch - 4ms/step\n",
            "Epoch 21/30\n",
            "125/125 - 0s - loss: 0.1473 - accuracy: 0.9700 - val_loss: 0.4373 - val_accuracy: 0.8550 - 405ms/epoch - 3ms/step\n",
            "Epoch 22/30\n",
            "125/125 - 0s - loss: 0.1387 - accuracy: 0.9740 - val_loss: 0.4338 - val_accuracy: 0.8600 - 409ms/epoch - 3ms/step\n",
            "Epoch 23/30\n",
            "125/125 - 0s - loss: 0.1328 - accuracy: 0.9820 - val_loss: 0.4256 - val_accuracy: 0.8550 - 415ms/epoch - 3ms/step\n",
            "Epoch 24/30\n",
            "125/125 - 0s - loss: 0.1276 - accuracy: 0.9780 - val_loss: 0.4080 - val_accuracy: 0.8750 - 429ms/epoch - 3ms/step\n",
            "Epoch 25/30\n",
            "125/125 - 0s - loss: 0.1166 - accuracy: 0.9860 - val_loss: 0.4218 - val_accuracy: 0.8850 - 462ms/epoch - 4ms/step\n",
            "Epoch 26/30\n",
            "125/125 - 0s - loss: 0.1136 - accuracy: 0.9880 - val_loss: 0.4405 - val_accuracy: 0.8500 - 298ms/epoch - 2ms/step\n",
            "Epoch 27/30\n",
            "125/125 - 0s - loss: 0.1063 - accuracy: 0.9900 - val_loss: 0.3934 - val_accuracy: 0.8650 - 291ms/epoch - 2ms/step\n",
            "Epoch 28/30\n",
            "125/125 - 0s - loss: 0.0984 - accuracy: 0.9920 - val_loss: 0.3995 - val_accuracy: 0.8800 - 361ms/epoch - 3ms/step\n",
            "Epoch 29/30\n",
            "125/125 - 0s - loss: 0.0923 - accuracy: 0.9900 - val_loss: 0.3866 - val_accuracy: 0.8700 - 368ms/epoch - 3ms/step\n",
            "Epoch 30/30\n",
            "125/125 - 0s - loss: 0.0867 - accuracy: 0.9920 - val_loss: 0.3999 - val_accuracy: 0.8650 - 361ms/epoch - 3ms/step\n",
            "Training time: 20.90 seconds\n"
          ]
        }
      ],
      "source": [
        "q_model = model()\n",
        "start_time = time.time()\n",
        "q_history = q_model.fit(q_train_images, train_labels,\n",
        "                        validation_data=(q_test_images, test_labels),\n",
        "                        batch_size=4, epochs=n_epochs, verbose=2)\n",
        "q_time = time.time() - start_time\n",
        "print(f\"Training time: {q_time:.2f} seconds\")"
      ]
    },
    {
      "cell_type": "markdown",
      "source": [
        "##For quantum model, validation accuracy is 86.50% and it takes 20.90 second to train.\n"
      ],
      "metadata": {
        "id": "Qozr_sDQvpgz"
      }
    },
    {
      "cell_type": "code",
      "execution_count": null,
      "metadata": {
        "colab": {
          "base_uri": "https://localhost:8080/"
        },
        "id": "t4tLMiMuwAFM",
        "outputId": "cef9ee88-3890-4e19-beab-8c332bd4b7e9"
      },
      "outputs": [
        {
          "output_type": "stream",
          "name": "stdout",
          "text": [
            "Epoch 1/30\n",
            "125/125 - 3s - loss: 1.1533 - accuracy: 0.6460 - val_loss: 0.6114 - val_accuracy: 0.7950 - 3s/epoch - 23ms/step\n",
            "Epoch 2/30\n",
            "125/125 - 0s - loss: 0.4738 - accuracy: 0.8480 - val_loss: 0.4898 - val_accuracy: 0.8500 - 455ms/epoch - 4ms/step\n",
            "Epoch 3/30\n",
            "125/125 - 0s - loss: 0.3275 - accuracy: 0.8960 - val_loss: 0.4212 - val_accuracy: 0.8550 - 444ms/epoch - 4ms/step\n",
            "Epoch 4/30\n",
            "125/125 - 1s - loss: 0.2567 - accuracy: 0.9140 - val_loss: 0.3404 - val_accuracy: 0.9050 - 510ms/epoch - 4ms/step\n",
            "Epoch 5/30\n",
            "125/125 - 0s - loss: 0.1669 - accuracy: 0.9520 - val_loss: 0.3963 - val_accuracy: 0.8650 - 450ms/epoch - 4ms/step\n",
            "Epoch 6/30\n",
            "125/125 - 0s - loss: 0.1072 - accuracy: 0.9760 - val_loss: 0.2934 - val_accuracy: 0.9000 - 452ms/epoch - 4ms/step\n",
            "Epoch 7/30\n",
            "125/125 - 0s - loss: 0.0632 - accuracy: 0.9900 - val_loss: 0.2785 - val_accuracy: 0.9300 - 436ms/epoch - 3ms/step\n",
            "Epoch 8/30\n",
            "125/125 - 0s - loss: 0.0495 - accuracy: 0.9960 - val_loss: 0.2898 - val_accuracy: 0.9250 - 452ms/epoch - 4ms/step\n",
            "Epoch 9/30\n",
            "125/125 - 1s - loss: 0.0328 - accuracy: 0.9980 - val_loss: 0.2830 - val_accuracy: 0.9100 - 503ms/epoch - 4ms/step\n",
            "Epoch 10/30\n",
            "125/125 - 1s - loss: 0.0238 - accuracy: 1.0000 - val_loss: 0.2687 - val_accuracy: 0.9200 - 509ms/epoch - 4ms/step\n",
            "Epoch 11/30\n",
            "125/125 - 0s - loss: 0.0170 - accuracy: 1.0000 - val_loss: 0.2675 - val_accuracy: 0.9250 - 435ms/epoch - 3ms/step\n",
            "Epoch 12/30\n",
            "125/125 - 1s - loss: 0.0126 - accuracy: 1.0000 - val_loss: 0.2701 - val_accuracy: 0.9250 - 500ms/epoch - 4ms/step\n",
            "Epoch 13/30\n",
            "125/125 - 1s - loss: 0.0106 - accuracy: 1.0000 - val_loss: 0.2732 - val_accuracy: 0.9150 - 503ms/epoch - 4ms/step\n",
            "Epoch 14/30\n",
            "125/125 - 1s - loss: 0.0083 - accuracy: 1.0000 - val_loss: 0.2754 - val_accuracy: 0.9150 - 505ms/epoch - 4ms/step\n",
            "Epoch 15/30\n",
            "125/125 - 0s - loss: 0.0071 - accuracy: 1.0000 - val_loss: 0.2885 - val_accuracy: 0.9200 - 457ms/epoch - 4ms/step\n",
            "Epoch 16/30\n",
            "125/125 - 0s - loss: 0.0062 - accuracy: 1.0000 - val_loss: 0.2767 - val_accuracy: 0.9250 - 445ms/epoch - 4ms/step\n",
            "Epoch 17/30\n",
            "125/125 - 1s - loss: 0.0053 - accuracy: 1.0000 - val_loss: 0.2830 - val_accuracy: 0.9200 - 617ms/epoch - 5ms/step\n",
            "Epoch 18/30\n",
            "125/125 - 1s - loss: 0.0046 - accuracy: 1.0000 - val_loss: 0.2843 - val_accuracy: 0.9150 - 592ms/epoch - 5ms/step\n",
            "Epoch 19/30\n",
            "125/125 - 1s - loss: 0.0039 - accuracy: 1.0000 - val_loss: 0.2834 - val_accuracy: 0.9150 - 649ms/epoch - 5ms/step\n",
            "Epoch 20/30\n",
            "125/125 - 1s - loss: 0.0034 - accuracy: 1.0000 - val_loss: 0.2880 - val_accuracy: 0.9200 - 637ms/epoch - 5ms/step\n",
            "Epoch 21/30\n",
            "125/125 - 1s - loss: 0.0030 - accuracy: 1.0000 - val_loss: 0.2850 - val_accuracy: 0.9200 - 559ms/epoch - 4ms/step\n",
            "Epoch 22/30\n",
            "125/125 - 0s - loss: 0.0027 - accuracy: 1.0000 - val_loss: 0.2907 - val_accuracy: 0.9200 - 452ms/epoch - 4ms/step\n",
            "Epoch 23/30\n",
            "125/125 - 0s - loss: 0.0024 - accuracy: 1.0000 - val_loss: 0.2902 - val_accuracy: 0.9200 - 445ms/epoch - 4ms/step\n",
            "Epoch 24/30\n",
            "125/125 - 1s - loss: 0.0022 - accuracy: 1.0000 - val_loss: 0.2880 - val_accuracy: 0.9200 - 519ms/epoch - 4ms/step\n",
            "Epoch 25/30\n",
            "125/125 - 0s - loss: 0.0020 - accuracy: 1.0000 - val_loss: 0.2910 - val_accuracy: 0.9200 - 436ms/epoch - 3ms/step\n",
            "Epoch 26/30\n",
            "125/125 - 0s - loss: 0.0018 - accuracy: 1.0000 - val_loss: 0.2894 - val_accuracy: 0.9200 - 448ms/epoch - 4ms/step\n",
            "Epoch 27/30\n",
            "125/125 - 0s - loss: 0.0016 - accuracy: 1.0000 - val_loss: 0.2877 - val_accuracy: 0.9150 - 500ms/epoch - 4ms/step\n",
            "Epoch 28/30\n",
            "125/125 - 1s - loss: 0.0014 - accuracy: 1.0000 - val_loss: 0.2897 - val_accuracy: 0.9250 - 512ms/epoch - 4ms/step\n",
            "Epoch 29/30\n",
            "125/125 - 1s - loss: 0.0013 - accuracy: 1.0000 - val_loss: 0.2918 - val_accuracy: 0.9200 - 504ms/epoch - 4ms/step\n",
            "Epoch 30/30\n",
            "125/125 - 1s - loss: 0.0012 - accuracy: 1.0000 - val_loss: 0.2934 - val_accuracy: 0.9250 - 505ms/epoch - 4ms/step\n",
            "Training time: 21.30 seconds\n"
          ]
        }
      ],
      "source": [
        "c_model = model1()\n",
        "start_time = time.time()\n",
        "c_history = c_model.fit(train_images1, train_labels,\n",
        "                        validation_data=(test_images1, test_labels),\n",
        "                        batch_size=4, epochs=n_epochs, verbose=2)\n",
        "c_time = time.time() - start_time\n",
        "print(f\"Training time: {c_time:.2f} seconds\")"
      ]
    },
    {
      "cell_type": "markdown",
      "source": [
        "#For classical Lenet-5 model, validation accuracy is 92.50% and it takes 21.30 second to train."
      ],
      "metadata": {
        "id": "fHQA38o6NB-v"
      }
    },
    {
      "cell_type": "markdown",
      "source": [
        "#Time to run this code is"
      ],
      "metadata": {
        "id": "qe92gHQVwFz4"
      }
    },
    {
      "cell_type": "code",
      "source": [
        "# Record the start time for prediction\n",
        "start_time = time.time()\n",
        "\n",
        "# Make predictions\n",
        "predictions = c_model.predict(test_images1)\n",
        "\n",
        "# Record the end time for prediction\n",
        "end_time = time.time()\n",
        "\n",
        "# Calculate the prediction time\n",
        "prediction_time = end_time - start_time\n",
        "print(f\"Prediction took {prediction_time:.2f} seconds\")"
      ],
      "metadata": {
        "colab": {
          "base_uri": "https://localhost:8080/"
        },
        "id": "i8iugH-zpMKB",
        "outputId": "91141b24-6d31-47ac-c4ee-0e8b02d4c2ae"
      },
      "execution_count": null,
      "outputs": [
        {
          "output_type": "stream",
          "name": "stdout",
          "text": [
            "7/7 [==============================] - 0s 15ms/step\n",
            "Prediction took 0.33 seconds\n"
          ]
        }
      ]
    },
    {
      "cell_type": "markdown",
      "source": [
        "#Classical model takes 0.33 seconds for prediction."
      ],
      "metadata": {
        "id": "2K2g_EiFKkhj"
      }
    },
    {
      "cell_type": "code",
      "source": [
        "# Record the start time for prediction\n",
        "start_time = time.time()\n",
        "\n",
        "# Make predictions\n",
        "predictions = q_model.predict(test_images)\n",
        "\n",
        "# Record the end time for prediction\n",
        "end_time = time.time()\n",
        "\n",
        "# Calculate the prediction time\n",
        "prediction_time = end_time - start_time\n",
        "print(f\"Prediction took {prediction_time:.2f} seconds\")"
      ],
      "metadata": {
        "colab": {
          "base_uri": "https://localhost:8080/"
        },
        "id": "q3nsAPBhpjIq",
        "outputId": "7be5a25f-094d-4b1c-8288-1b726029b01c"
      },
      "execution_count": null,
      "outputs": [
        {
          "output_type": "stream",
          "name": "stdout",
          "text": [
            "7/7 [==============================] - 0s 2ms/step\n",
            "Prediction took 0.11 seconds\n"
          ]
        }
      ]
    },
    {
      "cell_type": "markdown",
      "source": [
        "#Quantum model takes 0.11 seconds for prediction"
      ],
      "metadata": {
        "id": "cUu2aFCkMKmY"
      }
    },
    {
      "cell_type": "code",
      "execution_count": null,
      "metadata": {
        "colab": {
          "base_uri": "https://localhost:8080/",
          "height": 563
        },
        "id": "JxssqwRewEku",
        "outputId": "1980d317-6364-4d38-fe7f-2f031fabc1e3"
      },
      "outputs": [
        {
          "output_type": "stream",
          "name": "stderr",
          "text": [
            "<ipython-input-17-07dacc7673cc>:1: MatplotlibDeprecationWarning: The seaborn styles shipped by Matplotlib are deprecated since 3.6, as they no longer correspond to the styles shipped by seaborn. However, they will remain available as 'seaborn-v0_8-<style>'. Alternatively, directly use the seaborn API instead.\n",
            "  plt.style.use(\"seaborn\")\n"
          ]
        },
        {
          "output_type": "display_data",
          "data": {
            "text/plain": [
              "<Figure size 1100x500 with 2 Axes>"
            ],
            "image/png": "[encoded data removed]"
          },
          "metadata": {}
        }
      ],
      "source": [
        "plt.style.use(\"seaborn\")\n",
        "fig, (ax1, ax2) = plt.subplots(1, 2, figsize=(11, 5))\n",
        "\n",
        "ax1.plot(q_history.history[\"val_accuracy\"], \"-ob\", label=\"With quantum layer\")\n",
        "ax1.plot(c_history.history[\"val_accuracy\"], \"-og\", label=\"Without quantum layer\")\n",
        "ax1.set_ylabel(\"Accuracy\")\n",
        "ax1.set_ylim([0, 1])\n",
        "ax1.set_xlabel(\"Epoch\")\n",
        "ax1.legend()\n",
        "\n",
        "ax2.plot(q_history.history[\"val_loss\"], \"-ob\", label=\"With quantum layer\")\n",
        "ax2.plot(c_history.history[\"val_loss\"], \"-og\", label=\"Without quantum layer\")\n",
        "ax2.set_ylabel(\"Loss\")\n",
        "ax2.set_ylim(top=2.5)\n",
        "ax2.set_xlabel(\"Epoch\")\n",
        "ax2.legend()\n",
        "\n",
        "plt.tight_layout()\n",
        "plt.savefig('accuracy_loss.png', dpi=200, facecolor='w')\n",
        "plt.show()"
      ]
    },
    {
      "cell_type": "code",
      "source": [
        "import numpy as np\n",
        "from sklearn.metrics import confusion_matrix\n",
        "import keras\n",
        "\n",
        "# Assuming c_model is your trained model and test_images1, test_labels are your test data and labels\n",
        "\n",
        "# Step 1: Predict the classes for the test data\n",
        "# This will give you the indices of the most likely classes predicted by the model\n",
        "predictions = c_model.predict(test_images1)\n",
        "predicted_classes = np.argmax(predictions, axis=1)\n",
        "\n",
        "# Step 2: Compute the confusion matrix\n",
        "# Ensure that test_labels are in the correct format, i.e., a flat array of integers\n",
        "conf_matrix = confusion_matrix(test_labels, predicted_classes)\n",
        "\n",
        "# Print or return the confusion matrix\n",
        "print(conf_matrix)\n"
      ],
      "metadata": {
        "colab": {
          "base_uri": "https://localhost:8080/"
        },
        "id": "P6B74SbonMPS",
        "outputId": "d8e1e1c5-1996-412f-8f6e-15086c5f68b3"
      },
      "execution_count": null,
      "outputs": [
        {
          "output_type": "stream",
          "name": "stdout",
          "text": [
            "7/7 [==============================] - 0s 2ms/step\n",
            "[[17  0  0  0  0  0  0  0  0  0]\n",
            " [ 0 28  0  0  0  0  0  0  0  0]\n",
            " [ 0  0 15  0  1  0  0  0  0  0]\n",
            " [ 0  1  0 14  0  1  0  0  0  0]\n",
            " [ 0  0  0  0 26  0  1  0  0  1]\n",
            " [ 0  0  1  0  1 17  0  1  0  0]\n",
            " [ 0  0  0  0  0  0 20  0  0  0]\n",
            " [ 0  0  1  1  0  0  0 20  0  2]\n",
            " [ 0  0  0  0  0  0  0  0 10  0]\n",
            " [ 0  0  0  1  0  0  0  1  1 18]]\n"
          ]
        }
      ]
    },
    {
      "cell_type": "code",
      "source": [
        "predictions = q_model.predict(test_images)\n",
        "predicted_classes = np.argmax(predictions, axis=1)\n",
        "\n",
        "# Step 2: Compute the confusion matrix\n",
        "# Ensure that test_labels are in the correct format, i.e., a flat array of integers\n",
        "conf_matrix = confusion_matrix(test_labels, predicted_classes)\n",
        "\n",
        "# Print or return the confusion matrix\n",
        "print(conf_matrix)"
      ],
      "metadata": {
        "colab": {
          "base_uri": "https://localhost:8080/"
        },
        "id": "aMaR91tlvpLX",
        "outputId": "d0b0324f-85e0-4582-fce5-a7a9c36ee38f"
      },
      "execution_count": null,
      "outputs": [
        {
          "output_type": "stream",
          "name": "stdout",
          "text": [
            "7/7 [==============================] - 0s 2ms/step\n",
            "[[ 1  0 16  0  0  0  0  0  0  0]\n",
            " [14  0 14  0  0  0  0  0  0  0]\n",
            " [ 4  0 11  0  1  0  0  0  0  0]\n",
            " [11  0  5  0  0  0  0  0  0  0]\n",
            " [26  0  1  0  1  0  0  0  0  0]\n",
            " [ 8  0 12  0  0  0  0  0  0  0]\n",
            " [14  0  6  0  0  0  0  0  0  0]\n",
            " [22  0  1  1  0  0  0  0  0  0]\n",
            " [10  0  0  0  0  0  0  0  0  0]\n",
            " [18  0  1  0  2  0  0  0  0  0]]\n"
          ]
        }
      ]
    },
    {
      "cell_type": "code",
      "source": [
        "from sklearn.metrics import classification_report\n",
        "import numpy as np\n",
        "import keras\n",
        "\n",
        "# Assuming c_model is your trained model and test_images1, test_labels are your test data and labels\n",
        "\n",
        "# Step 1: Predict the classes for the test data\n",
        "predictions = c_model.predict(test_images1)\n",
        "predicted_classes = np.argmax(predictions, axis=1)\n",
        "\n",
        "# Step 2: Compute the classification report\n",
        "# Ensure that test_labels are in the correct format, i.e., a flat array of integers\n",
        "# If test_labels are one-hot encoded, convert them: test_labels = np.argmax(test_labels, axis=1)\n",
        "report = classification_report(test_labels, predicted_classes)\n",
        "\n",
        "# Print or return the classification report\n",
        "print(report)\n"
      ],
      "metadata": {
        "colab": {
          "base_uri": "https://localhost:8080/"
        },
        "id": "_uFPlU_lnnMK",
        "outputId": "068f8aba-f93d-4f1c-9904-7e39bf544ed5"
      },
      "execution_count": null,
      "outputs": [
        {
          "output_type": "stream",
          "name": "stdout",
          "text": [
            "7/7 [==============================] - 0s 2ms/step\n",
            "              precision    recall  f1-score   support\n",
            "\n",
            "           0       1.00      1.00      1.00        17\n",
            "           1       0.97      1.00      0.98        28\n",
            "           2       0.88      0.94      0.91        16\n",
            "           3       0.88      0.88      0.88        16\n",
            "           4       0.93      0.93      0.93        28\n",
            "           5       0.94      0.85      0.89        20\n",
            "           6       0.95      1.00      0.98        20\n",
            "           7       0.91      0.83      0.87        24\n",
            "           8       0.91      1.00      0.95        10\n",
            "           9       0.86      0.86      0.86        21\n",
            "\n",
            "    accuracy                           0.93       200\n",
            "   macro avg       0.92      0.93      0.92       200\n",
            "weighted avg       0.92      0.93      0.92       200\n",
            "\n"
          ]
        }
      ]
    },
    {
      "cell_type": "code",
      "source": [
        "# Step 1: Predict the classes for the test data\n",
        "predictions = q_model.predict(test_images)\n",
        "predicted_classes = np.argmax(predictions, axis=1)\n",
        "\n",
        "# Step 2: Compute the classification report\n",
        "# Ensure that test_labels are in the correct format, i.e., a flat array of integers\n",
        "# If test_labels are one-hot encoded, convert them: test_labels = np.argmax(test_labels, axis=1)\n",
        "report = classification_report(test_labels, predicted_classes)\n",
        "\n",
        "# Print or return the classification report\n",
        "print(report)"
      ],
      "metadata": {
        "colab": {
          "base_uri": "https://localhost:8080/"
        },
        "id": "ZlphtND-qN64",
        "outputId": "54ef01a4-36d7-4235-8662-0d40fa103f00"
      },
      "execution_count": null,
      "outputs": [
        {
          "output_type": "stream",
          "name": "stdout",
          "text": [
            "7/7 [==============================] - 0s 2ms/step\n",
            "              precision    recall  f1-score   support\n",
            "\n",
            "           0       0.01      0.06      0.01        17\n",
            "           1       0.00      0.00      0.00        28\n",
            "           2       0.16      0.69      0.27        16\n",
            "           3       0.00      0.00      0.00        16\n",
            "           4       0.25      0.04      0.06        28\n",
            "           5       0.00      0.00      0.00        20\n",
            "           6       0.00      0.00      0.00        20\n",
            "           7       0.00      0.00      0.00        24\n",
            "           8       0.00      0.00      0.00        10\n",
            "           9       0.00      0.00      0.00        21\n",
            "\n",
            "    accuracy                           0.07       200\n",
            "   macro avg       0.04      0.08      0.03       200\n",
            "weighted avg       0.05      0.07      0.03       200\n",
            "\n"
          ]
        },
        {
          "output_type": "stream",
          "name": "stderr",
          "text": [
            "/usr/local/lib/python3.10/dist-packages/sklearn/metrics/_classification.py:1344: UndefinedMetricWarning: Precision and F-score are ill-defined and being set to 0.0 in labels with no predicted samples. Use `zero_division` parameter to control this behavior.\n",
            "  _warn_prf(average, modifier, msg_start, len(result))\n",
            "/usr/local/lib/python3.10/dist-packages/sklearn/metrics/_classification.py:1344: UndefinedMetricWarning: Precision and F-score are ill-defined and being set to 0.0 in labels with no predicted samples. Use `zero_division` parameter to control this behavior.\n",
            "  _warn_prf(average, modifier, msg_start, len(result))\n",
            "/usr/local/lib/python3.10/dist-packages/sklearn/metrics/_classification.py:1344: UndefinedMetricWarning: Precision and F-score are ill-defined and being set to 0.0 in labels with no predicted samples. Use `zero_division` parameter to control this behavior.\n",
            "  _warn_prf(average, modifier, msg_start, len(result))\n"
          ]
        }
      ]
    }
  ],
  "metadata": {
    "colab": {
      "provenance": []
    },
    "kernelspec": {
      "display_name": "Python 3",
      "name": "python3"
    },
    "language_info": {
      "name": "python"
    }
  },
  "nbformat": 4,
  "nbformat_minor": 0
}